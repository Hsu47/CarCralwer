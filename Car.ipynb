{
 "cells": [
  {
   "cell_type": "markdown",
   "metadata": {},
   "source": [
    "== 工具 == \n",
    "python3 (3.10+), seleniumwire, undetected_chromedriver\n",
    "\n",
    "\n",
    "== 網站 ==\n",
    "www.partslink24.com\n",
    "\n",
    "== 說明 == \n",
    "\n",
    "1. 從入口網站左下方點選 bmw 徽標進入車型點選畫面\n",
    "2. 從車型頁面源碼中找到相對應的車型 API 接口，進行呼叫。目的是要模擬點選\n",
    "\tX1 -> F48 -> SAV -> X1 18d -> THA > Engine\n",
    "3. 每一個點擊都有相對應的接口，和 json 返回內容。通過這些 json 找到下一層的 API 並獲得 json 內容。\n",
    "\n",
    "\n",
    "=== 第一题 ===\n",
    "在 partslink 下，一個汽車品牌下有多個車型年款，由不同的參數組裝而成.\n",
    "\n",
    "掃描獲得 BMW 下所有車型，並保留每一個接口對應的 json 內容\n",
    "e.g. \n",
    "  https://www.partslink24.com/p5bmw/extern/groups/func-mdl?hg=04&lang=zh-TW&mdl=X1&modelType=F48&res1=SAV&res2=X1+18d&res3=THA&serviceName=bmw_parts\n",
    "\n",
    "\n",
    "=== 第二题 ===\n",
    "\n",
    "汽車品牌數據是樹狀結構。以BMW為例，\n",
    "\n",
    "BMW - 1'\n",
    "\t\t- E81 \n",
    "\t\t\t- 3 Doors\n",
    "\t\t\t\t- 116d\n",
    "\t\t\t\t\t- ECE \n",
    "\t\t\t\t\t\t- 11 Engine \n",
    "\t\t\t\t\t\t\t- 11_4021 Short Engine \n",
    "\t\t\t\t\t\t\t\t- Part 1\n",
    "\t\t\t\t\t\t\t\t- Part 2 \n",
    "\t\t\t\t\t\t\t\t\n",
    "\t\t\t\t\t\t\t- 11_4023 Engine block\n",
    "\t\t\t\t\t\t\t- 11_4099 Engine block mounting parts \n",
    "\t\t- E82\n",
    "\t\t- E87\n",
    "\n",
    "由於車型眾多，為了加速數據獲取，一般都會以分散式框架，平行獲取。\n",
    "在第一題 我們知道n+1層數據的API 都可以在 第n層 的API裡獲得。\n",
    "\n",
    "假設獲得的API URL 會在 30分鐘後過期，且有五隻爬蟲實例，每個爬蟲每次可以發送一個 URL 請求，\n",
    "請問該如何規劃請求來達到最少重複請求(最少請求次數) "
   ]
  },
  {
   "cell_type": "code",
   "execution_count": 19,
   "metadata": {},
   "outputs": [],
   "source": [
    "from seleniumwire import webdriver\n",
    "from undetected_chromedriver import Chrome, ChromeOptions\n",
    "from selenium.webdriver.common.by import By\n",
    "from selenium.webdriver.support.ui import WebDriverWait\n",
    "from selenium.webdriver.support import expected_conditions as EC\n",
    "from fake_useragent import UserAgent\n",
    "import json"
   ]
  },
  {
   "cell_type": "code",
   "execution_count": 2,
   "metadata": {},
   "outputs": [],
   "source": [
    "options = ChromeOptions()\n",
    "# 设置User-Agent"
   ]
  },
  {
   "cell_type": "code",
   "execution_count": 3,
   "metadata": {},
   "outputs": [],
   "source": [
    "# set options to run Chromedriver in headless mode\n",
    "options.add_argument('--headless')\n",
    "options.add_argument('--disable-gpu')\n",
    "\n",
    "# set options to prevent Chrome from showing the \"Chrome is being controlled by automated test software\" notification\n",
    "options.add_argument('--disable-logging')\n",
    "options.add_argument('--disable-extensions')\n",
    "options.add_argument('--disable-infobars')\n",
    "options.add_argument('--disable-blink-features=AutomationControlled')\n",
    "\n",
    "# set up user agent rotation\n",
    "ua = UserAgent()\n",
    "options.add_argument(f'user-agent={ua.random}')\n",
    "\n",
    "# create a new undetected Chromedriver instance with the specified options\n",
    "driver = webdriver.Chrome(options=options)"
   ]
  },
  {
   "cell_type": "code",
   "execution_count": 68,
   "metadata": {},
   "outputs": [],
   "source": [
    "driver.get('https://www.partslink24.com/partslink24/user/login.do')"
   ]
  },
  {
   "cell_type": "code",
   "execution_count": 4,
   "metadata": {},
   "outputs": [],
   "source": [
    "driver.get('https://www.partslink24.com/partslink24/launchCatalog.do?service=bmw_parts')"
   ]
  },
  {
   "cell_type": "code",
   "execution_count": 6,
   "metadata": {},
   "outputs": [
    {
     "data": {
      "text/plain": [
       "'<html lang=\"en\"><head>\\n    <meta charset=\"utf-8\" http-equiv=\"X-UA-Compatible\" content=\"IE=10,11,edge\">\\n    <meta name=\"viewport\" content=\"user-scalable=no, initial-scale=1, maximum-scale=1, minimum-scale=1, width=device-width, height=device-height, target-densitydpi=device-dpi\">\\n    <title>BMW, X5, E53, X5 4.8is – partslink24</title>\\n    <link rel=\"stylesheet\" href=\"p5-1.10.8.css\">\\n    <link rel=\"stylesheet\" href=\"webfonts/font-style-1.10.8.css\">\\n    <link rel=\"stylesheet\" href=\"webfonts/pl24-styleguide.1.2.11.min.css\">\\n    <link rel=\"stylesheet\" href=\"galleria/galleria.classic.min.css\">\\n</head>\\n<body>\\n<div id=\"header\" class=\"p5_header p5_demo\">\\n    <div id=\"brand_logo_container\" class=\"p5_brand_logo_container\">\\n        <img id=\"brand_logo\" src=\"data:image/png;base64, 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\" alt=\"brand logo\" style=\"display: inline;\">\\n    </div>\\n    <div id=\"vin_search_input_container\" class=\"p5_vin_search_input_container\">\\n        <div class=\"p5_input_container\">\\n            <input id=\"direct_entry\" class=\"textfield\" type=\"text\" maxlength=\"17\" autocomplete=\"off\" placeholder=\"Direct access\" style=\"display: none;\"><label class=\"p5_input_label icon icon--search-car p5_inactive\" for=\"direct_entry\" id=\"vehicle_icon\" style=\"display: none;\"></label>\\n        </div>\\n        <div class=\"p5_input_container\">\\n            <input id=\"search_query\" class=\"textfield\" type=\"text\" maxlength=\"30\" autocomplete=\"off\" placeholder=\"Search\" style=\"display: none;\"><label class=\"p5_input_label icon icon--search p5_inactive\" for=\"search_query\" id=\"search_icon\" style=\"display: none;\"></label>\\n        </div>\\n    </div>\\n    <div id=\"share_illustration_btn\" class=\"p5_illu_mailing\"><span class=\"icon icon--share\"></span></div>\\n    <div id=\"dealer_header_container\" class=\"p5_dealer_logo\"><div class=\"p5_dealer_select_btn_container\"><button disabled=\"disabled\" class=\"btn btn-primary p5_inactive\">Select dealer</button></div></div>\\n    <div id=\"cart_logo_container\" class=\"p5_cart_logo p5_inactive\"><span class=\"icon icon--cart\"></span></div>\\n    <div id=\"catalog_logout\" class=\"p5_logout p5_inactive\"><span class=\"icon icon--logout\"></span></div>\\n<div id=\"versions_info_container\" title=\"Versions Overview\"><span class=\"icon icon--inform-filled version_info\"></span></div></div>\\n<div id=\"navbar\" class=\"p5_navbar\">\\n    <div id=\"breadcrumbs\" class=\"p5_breadcrumb_line\"><a href=\"/partslink24/startup.do\" tabindex=\"0\" class=\"p5_breadcrumb\">Home</a><span class=\"p5_breadcrumb_septor icon icon--arrow-right\"></span><span tabindex=\"0\" class=\"p5_breadcrumb link\">BMW</span><span class=\"p5_breadcrumb_septor icon icon--arrow-right\"></span><span tabindex=\"0\" class=\"p5_breadcrumb link\">X5</span><span class=\"p5_breadcrumb_septor icon icon--arrow-right\"></span><span tabindex=\"0\" class=\"p5_breadcrumb link\">E53</span><span class=\"p5_breadcrumb_septor icon icon--arrow-right\"></span><span tabindex=\"0\" class=\"p5_breadcrumb link\">SAV</span><span class=\"p5_breadcrumb_septor icon icon--arrow-right\"></span><span tabindex=\"0\" class=\"p5_breadcrumb link\">X5 4.8is</span></div>\\n    <div id=\"p24_logo\" class=\"pl24_logo_container\">\\n        <img src=\"images/pl24-logo.svg\" class=\"pl24_logo\" alt=\"partslink24\">\\n    </div>\\n</div>\\n<div id=\"companion_and_content\" class=\"p5_companion_and_content\">\\n    <div id=\"companion\">\\n        <div id=\"companion_btn_vin\" class=\"p5_companion_btn p5_inactive\" tabindex=\"-1\"><span class=\"icon icon--car\"></span></div>\\n        <div id=\"companion_btn_search\" class=\"p5_companion_btn p5_inactive\" tabindex=\"-1\"><span class=\"icon icon--search-list\"></span></div>\\n        <div id=\"companion_btn_partsprom\" class=\"p5_companion_btn p5_inactive\" tabindex=\"-1\"><span class=\"icon icon--percent-outlined\"></span></div>\\n        <div id=\"companion_btn_orderbrg\" class=\"p5_companion_btn p5_inactive\" tabindex=\"-1\"><span class=\"icon icon--orderbridge\"></span></div>\\n        <div id=\"companion_btn_carts\" class=\"p5_companion_btn p5_inactive\" tabindex=\"-1\"><span class=\"icon icon--carts\"></span></div>\\n        <div id=\"companion_btn_cart\" class=\"p5_companion_btn p5_inactive\" tabindex=\"-1\"><span class=\"icon icon--cart\"></span></div>\\n        <div id=\"companion_btn_bt_versand\" class=\"p5_companion_btn p5_inactive\" tabindex=\"-1\"><span class=\"icon icon--share\"></span></div>\\n    </div>\\n    <div id=\"companion_content\" class=\"p5_companion_content\">\\n        <div id=\"companion_vehicle_info\" class=\"companion_panel\"><div class=\"p5_companion_panel_header\"><div class=\"p5_companion_panel_header_content_flex\"><div class=\"p5_companion_panel_header_title flex_align_center\" title=\"Vehicle identification\">Vehicle identification</div><div class=\"flex_align_center p5_companion_icon_container\"><div class=\"p5_companion_header_icon icon icon--close\"></div></div></div><div class=\"p5_companion_panel_header_content_block\"></div></div><div class=\"p5_companion_panel_content\"><div class=\"p5_vehicle_info_vin\"></div><div class=\"p5_vehicle_info_akkordeons\"><div class=\"p5_vehicle_info_txt\"></div><div class=\"p5_accordion_container\"><div class=\"p5_accordion\" style=\"display: none;\"><div class=\"p5_accordion_header\"><div class=\"p5_accordion_header_title\">Tip</div><div class=\"p5_accordion_header_icon icon--arrow-down icon\"></div></div><div class=\"p5_accordion_content\" style=\"display: none;\"><div class=\"p5_table_container_acc\"><div class=\"p5_table_head_acc\"><div class=\"p5t7_description p5_table_cell_comp\" title=\"Tip\" style=\"text-align: left;\">Tip</div></div><div class=\"p5_table_data_acc\"></div></div></div></div><div class=\"p5_accordion\" style=\"display: none;\"><div class=\"p5_accordion_header\"><div class=\"p5_accordion_header_title\">Vehicle data</div><div class=\"p5_accordion_header_icon icon--arrow-down icon\"></div></div><div class=\"p5_accordion_content\" style=\"display: none;\"><div class=\"p5_table_container_acc\"><div class=\"p5_table_head_acc\"><div class=\"p5t8_description p5_table_cell_comp\" title=\"Attribute\" style=\"text-align: left;\">Attribute</div><div class=\"p5t8_value p5_table_cell_comp\" title=\"Vehicle data\" style=\"text-align: left;\">Vehicle data</div></div><div class=\"p5_table_data_acc\"></div></div></div></div><div class=\"p5_accordion\" style=\"display: none;\"><div class=\"p5_accordion_header\"><div class=\"p5_accordion_header_title\">Info SA</div><div class=\"p5_accordion_header_icon icon--arrow-down icon\"></div></div><div class=\"p5_accordion_content\" style=\"display: none;\"><div class=\"p5_table_container_acc\"><div class=\"p5_table_head_acc\"><div class=\"p5t9_code p5_table_cell_comp\" title=\"&nbsp;\" style=\"text-align: left;\">&nbsp;</div><div class=\"p5t9_description p5_table_cell_comp\" title=\"Info SA\" style=\"text-align: left;\">Info SA</div></div><div class=\"p5_table_data_acc\"></div></div></div></div><div class=\"p5_accordion\" style=\"display: none;\"><div class=\"p5_accordion_header\"><div class=\"p5_accordion_header_title\">Standard equipment</div><div class=\"p5_accordion_header_icon icon--arrow-down icon\"></div></div><div class=\"p5_accordion_content\" style=\"display: none;\"><div class=\"p5_table_container_acc\"><div class=\"p5_table_head_acc\"><div class=\"p5t10_name p5_table_cell_comp\" title=\"&nbsp;\" style=\"text-align: left;\">&nbsp;</div><div class=\"p5t10_value p5_table_cell_comp\" title=\"Description\" style=\"text-align: left;\">Description</div></div><div class=\"p5_table_data_acc\"></div></div></div></div><div class=\"p5_accordion\" style=\"display: none;\"><div class=\"p5_accordion_header\"><div class=\"p5_accordion_header_title\">Options</div><div class=\"p5_accordion_header_icon icon--arrow-down icon\"></div></div><div class=\"p5_accordion_content\" style=\"display: none;\"><div class=\"p5_table_container_acc\"><div class=\"p5_table_head_acc\"><div class=\"p5t11_name p5_table_cell_comp\" title=\"&nbsp;\" style=\"text-align: left;\">&nbsp;</div><div class=\"p5t11_value p5_table_cell_comp\" title=\"Description\" style=\"text-align: left;\">Description</div></div><div class=\"p5_table_data_acc\"></div></div></div></div><div class=\"p5_accordion\" style=\"display: none;\"><div class=\"p5_accordion_header\"><div class=\"p5_accordion_header_title\">Liquid capacities</div><div class=\"p5_accordion_header_icon icon--arrow-down icon\"></div></div><div class=\"p5_accordion_content\" style=\"display: none;\"><div class=\"p5_table_container_acc\"><div></div><div class=\"p5_table_data_acc\"></div></div></div></div><div class=\"p5_accordion\" style=\"display: none;\"><div class=\"p5_accordion_header\"><div class=\"p5_accordion_header_title\">QR-Code</div><div class=\"p5_accordion_header_icon icon--arrow-down icon\"></div></div><div class=\"p5_accordion_content\" style=\"display: none;\"></div></div></div></div><div class=\"p5_vehicle_info_narrow_down\"></div></div><div class=\"p5_companion_footer\" style=\"display: block;\"><div class=\"p5_companion_footer_btn_container\"><button class=\"btn btn-secondary p5_companion_footer_btn\" tabindex=\"0\" title=\"PDF\" style=\"display: none;\">PDF</button></div></div></div>\\n        <div id=\"companion_search_result\" class=\"companion_panel\"><div class=\"p5_companion_panel_header\"><div class=\"p5_companion_panel_header_content_flex\"><div class=\"p5_companion_panel_header_title flex_align_center\" title=\"Search\">Search</div><div class=\"flex_align_center p5_companion_icon_container\"><div class=\"p5_companion_header_icon icon icon--close\"></div></div></div><div class=\"p5_companion_panel_header_content_block\"></div></div><div class=\"p5_companion_panel_content full_height\"><div class=\"p5_table_container\"><div class=\"p5_table_head\"><div class=\"p5t4_btnr p5_table_cell\" title=\"Illustration\" style=\"text-align: left;\">Illustration</div><div class=\"p5t4_partno p5_table_cell\" title=\"Part number\" style=\"text-align: left;\">Part number</div><div class=\"p5t4_name p5_table_cell\" title=\"Description\" style=\"text-align: left;\">Description</div><div class=\"p5t4_hg p5_table_cell\" title=\"MG\" style=\"text-align: left;\">MG</div><div class=\"p5t4_fg p5_table_cell\" title=\"FG\" style=\"text-align: left;\">FG</div><div class=\"p5t4_category p5_table_cell\" title=\"Category\" style=\"text-align: left;\">Category</div></div><div class=\"p5_table_data\"></div></div></div><div class=\"p5_companion_footer\"></div></div>\\n        <div id=\"companion_partsprom\" class=\"companion_panel\"><div class=\"p5_companion_panel_content\"></div><div class=\"p5_companion_footer\"></div></div>\\n        <div id=\"companion_orderbrg\" class=\"companion_panel\"><div class=\"p5_companion_panel_content\"></div><div class=\"p5_companion_footer\"></div></div>\\n        <div id=\"companion_carts\" class=\"companion_panel\" tabindex=\"-1\"><div class=\"p5_companion_panel_content\" style=\"top: 60px;\"></div><div class=\"p5_companion_footer\" style=\"display: block;\"></div></div>\\n        <div id=\"companion_cart\" class=\"companion_panel\"><div class=\"p5_companion_panel_content\" style=\"top: 60px;\"></div><div class=\"p5_companion_footer\" style=\"display: block;\"></div></div>\\n        <div id=\"companion_bt_versand\" class=\"companion_panel\"><div class=\"p5_companion_panel_content\"></div><div class=\"p5_companion_footer\"></div></div>\\n    </div>\\n    <div id=\"content\"><div class=\"p5fullpage\" style=\"display: none;\"><div class=\"nav_widget_container col_first\" id=\"wid-abbreviations\" style=\"left: 0%; width: 100%;\"><div class=\"nav_widget_content\"><div class=\"p5_table_container\"><div class=\"p5_table_head\"><div class=\"p5t0_abbreviation p5_table_cell\" title=\"&nbsp;\" style=\"text-align: left;\">&nbsp;</div><div class=\"p5t0_fulltext p5_table_cell\" title=\"Description\" style=\"text-align: left;\">Description</div><div class=\"p5t0_remark p5_table_cell\" title=\"Tip\" style=\"text-align: left;\">Tip</div></div><div class=\"p5_table_data\"></div></div></div></div></div><div class=\"p5fullpage\" style=\"display: none;\"><div class=\"illutables\" style=\"left: calc(50% + 3px);\"><div class=\"illubomalone\"><div class=\"p5_table_container\"><div class=\"p5_table_head\"><div class=\"p5_table_cell\" style=\"width: 35px;\">&nbsp;</div><div class=\"p5t1_pos p5_table_cell\" title=\"Pos.\" style=\"text-align: left;\">Pos.</div><div class=\"p5t1_partno p5_table_cell\" title=\"Part number\" style=\"text-align: left;\">Part number</div><div class=\"p5t1_description p5_table_cell\" title=\"Description\" style=\"text-align: left;\">Description</div><div class=\"p5t1_remark p5_table_cell\" title=\"Supplement\" style=\"text-align: left;\">Supplement</div><div class=\"p5t1_qty p5_table_cell\" title=\"Unit\" style=\"text-align: left;\">Unit</div><div class=\"p5t1_ae p5_table_cell\" title=\"AE\" style=\"text-align: left;\">AE</div></div><div class=\"p5_table_data\"></div></div></div></div><div id=\"splitter\" class=\"p5content_split\" style=\"left: 50%;\"></div><div class=\"illuimage\" style=\"width: 50%;\"><div class=\"illuimageheader\"><div class=\"illuimageheader_title\" title=\"Illustration\">Illustration</div><div class=\"illuimageheader_lens\"></div></div><div class=\"illuimagecontainer\"><canvas id=\"imgcanvas_imageViewer\" width=\"0\" height=\"0\" class=\"image_canvas\"></canvas><div id=\"imgdiv_imageViewer\" class=\"image_div\" style=\"position: absolute; z-index: 1; left: 0px; top: 0px; width: 0px; height: 0px;\"></div></div><div class=\"illu_mailing_rendition_container\"></div></div></div><div class=\"p5fullpage\" style=\"display: none;\"><div class=\"nav_widget_container col_first\" id=\"wid-mainGroupsTable\" style=\"left: 0%; width: 25%;\"><div class=\"nav_widget_content\"><div class=\"p5_table_container\"><div class=\"p5_table_head\"><div class=\"p5_table_cell\" title=\"Main group\">Main group</div></div><div class=\"p5_table_data\"></div></div></div></div><div class=\"nav_widget_container col_cont\" id=\"wid-subGroupsTable\" style=\"left: 25%; width: 75%;\"><div class=\"nav_widget_content\"><div class=\"p5_table_container\"><div class=\"p5_table_head\"><div class=\"p5t3_fg p5_table_cell\" title=\"FG\" style=\"text-align: center;\">FG</div><div class=\"p5t3_descr p5_table_cell\" title=\"Description\" style=\"text-align: left;\">Description</div><div class=\"p5t3_comment p5_table_cell\" title=\"Comment\" style=\"text-align: left;\">Comment</div></div><div class=\"p5_table_data\"></div></div></div></div></div><div class=\"p5fullpage\" style=\"display: none;\"><div class=\"filterbom_filter_container\" style=\"width: 50%;\"><div class=\"filterbom_filter col_first\"><div class=\"p5_table_container\"><div class=\"p5_table_head\"><div class=\"p5_table_cell\" title=\"Springs\">Springs</div></div><div class=\"p5_table_data\"></div></div></div><div class=\"filterbom_filter_input\"><div class=\"filterbom_filter_input_caption\">q</div><div class=\"filterbom_filter_input_container\"><input type=\"text\" autocomplete=\"off\" maxlength=\"20\" id=\"filterbom_filter_input_id_1\" class=\"textfield filterbom_filter_input_element\"><label for=\"filterbom_filter_input_id_1\" class=\"p5_input_label active icon icon--search\"></label></div></div></div><div class=\"filterbom_bom col_cont\" style=\"left: 50%;\"><div class=\"p5_table_container\"><div class=\"p5_table_head\"><div class=\"p5_table_cell\" style=\"width: 35px;\">&nbsp;</div><div class=\"p5t6_partno p5_table_cell\" title=\"Part number\" style=\"text-align: left;\">Part number</div><div class=\"p5t6_description p5_table_cell\" title=\"Description\" style=\"text-align: left;\">Description</div></div><div class=\"p5_table_data\"></div></div></div></div><div class=\"p5fullpage\" style=\"\"><div class=\"nav_widget_container col_first\" id=\"wid-modelTable\" style=\"left: 0%; width: 20%;\"><div class=\"nav_widget_content\"><div class=\"p5_table_container\"><div class=\"p5_table_head\"><div class=\"p5t13_model p5_table_cell\" title=\"Model\" style=\"text-align: left; width: 100%;\">Model</div></div><div class=\"p5_table_data\"><div class=\"p5_table_rec datarow unavailable link\" id=\"modelTable_1\\'\" tabindex=\"0\" style=\"max-height: 396px;\"><div class=\"p5_table_cell p5t13_model\" style=\"display: table; text-align: left; width: 100%;\"><span class=\"p5_cell_content\" title=\"1\\'\">1\\'</span></div></div><div class=\"p5_table_rec datarow unavailable link\" id=\"modelTable_2\\'\" tabindex=\"0\" style=\"max-height: 396px;\"><div class=\"p5_table_cell p5t13_model\" style=\"display: table; text-align: left; width: 100%;\"><span class=\"p5_cell_content\" title=\"2\\'\">2\\'</span></div></div><div class=\"p5_table_rec datarow unavailable link\" id=\"modelTable_3\\'\" tabindex=\"0\" style=\"max-height: 396px;\"><div class=\"p5_table_cell p5t13_model\" style=\"display: table; text-align: left; width: 100%;\"><span class=\"p5_cell_content\" title=\"3\\'\">3\\'</span></div></div><div class=\"p5_table_rec datarow unavailable link\" id=\"modelTable_4\\'\" tabindex=\"0\" style=\"max-height: 396px;\"><div class=\"p5_table_cell p5t13_model\" style=\"display: table; text-align: left; width: 100%;\"><span class=\"p5_cell_content\" title=\"4\\'\">4\\'</span></div></div><div class=\"p5_table_rec datarow unavailable link\" id=\"modelTable_5\\'\" tabindex=\"0\" style=\"max-height: 396px;\"><div class=\"p5_table_cell p5t13_model\" style=\"display: table; text-align: left; width: 100%;\"><span class=\"p5_cell_content\" title=\"5\\'\">5\\'</span></div></div><div class=\"p5_table_rec datarow unavailable link\" id=\"modelTable_6\\'\" tabindex=\"0\" style=\"max-height: 396px;\"><div class=\"p5_table_cell p5t13_model\" style=\"display: table; text-align: left; width: 100%;\"><span class=\"p5_cell_content\" title=\"6\\' F06 Gran Coupé\">6\\' F06 Gran Coupé</span></div></div><div class=\"p5_table_rec datarow unavailable link\" id=\"modelTable_7\\'\" tabindex=\"0\" style=\"max-height: 396px;\"><div class=\"p5_table_cell p5t13_model\" style=\"display: table; text-align: left; width: 100%;\"><span class=\"p5_cell_content\" title=\"7\\'\">7\\'</span></div></div><div class=\"p5_table_rec datarow unavailable link\" id=\"modelTable_8\\'\" tabindex=\"0\" style=\"max-height: 396px;\"><div class=\"p5_table_cell p5t13_model\" style=\"display: table; text-align: left; width: 100%;\"><span class=\"p5_cell_content\" title=\"8\\'\">8\\'</span></div></div><div class=\"p5_table_rec datarow unavailable link\" id=\"modelTable_MS\" tabindex=\"0\" style=\"max-height: 396px;\"><div class=\"p5_table_cell p5t13_model\" style=\"display: table; text-align: left; width: 100%;\"><span class=\"p5_cell_content\" title=\"MS BMW Motorsport\">MS BMW Motorsport</span></div></div><div class=\"p5_table_rec datarow unavailable link\" id=\"modelTable_X1\" tabindex=\"0\" style=\"max-height: 396px;\"><div class=\"p5_table_cell p5t13_model\" style=\"display: table; text-align: left; width: 100%;\"><span class=\"p5_cell_content\" title=\"X1\">X1</span></div></div><div class=\"p5_table_rec datarow unavailable link\" id=\"modelTable_X2\" tabindex=\"0\" style=\"max-height: 396px;\"><div class=\"p5_table_cell p5t13_model\" style=\"display: table; text-align: left; width: 100%;\"><span class=\"p5_cell_content\" title=\"X2\">X2</span></div></div><div class=\"p5_table_rec datarow unavailable link\" id=\"modelTable_X3\" tabindex=\"0\" style=\"max-height: 396px;\"><div class=\"p5_table_cell p5t13_model\" style=\"display: table; text-align: left; width: 100%;\"><span class=\"p5_cell_content\" title=\"X3\">X3</span></div></div><div class=\"p5_table_rec datarow unavailable link\" id=\"modelTable_X4\" tabindex=\"0\" style=\"max-height: 396px;\"><div class=\"p5_table_cell p5t13_model\" style=\"display: table; text-align: left; width: 100%;\"><span class=\"p5_cell_content\" title=\"X4\">X4</span></div></div><div class=\"p5_table_rec datarow link clicked p5_selected\" id=\"modelTable_X5\" tabindex=\"0\" style=\"max-height: 396px;\"><div class=\"p5_table_cell p5t13_model\" style=\"display: table; text-align: left; width: 100%;\"><span class=\"p5_cell_content\" title=\"X5\">X5</span></div></div><div class=\"p5_table_rec datarow unavailable link\" id=\"modelTable_X6\" tabindex=\"0\" style=\"max-height: 396px;\"><div class=\"p5_table_cell p5t13_model\" style=\"display: table; text-align: left; width: 100%;\"><span class=\"p5_cell_content\" title=\"X6\">X6</span></div></div><div class=\"p5_table_rec datarow unavailable link\" id=\"modelTable_X7\" tabindex=\"0\" style=\"max-height: 396px;\"><div class=\"p5_table_cell p5t13_model\" style=\"display: table; text-align: left; width: 100%;\"><span class=\"p5_cell_content\" title=\"X7\">X7</span></div></div><div class=\"p5_table_rec datarow unavailable link\" id=\"modelTable_XM\" tabindex=\"0\" style=\"max-height: 396px;\"><div class=\"p5_table_cell p5t13_model\" style=\"display: table; text-align: left; width: 100%;\"><span class=\"p5_cell_content\" title=\"XM\">XM</span></div></div><div class=\"p5_table_rec datarow unavailable link\" id=\"modelTable_Z1\" tabindex=\"0\" style=\"max-height: 396px;\"><div class=\"p5_table_cell p5t13_model\" style=\"display: table; text-align: left; width: 100%;\"><span class=\"p5_cell_content\" title=\"Z1\">Z1</span></div></div><div class=\"p5_table_rec datarow unavailable link\" id=\"modelTable_Z4\" tabindex=\"0\" style=\"max-height: 396px;\"><div class=\"p5_table_cell p5t13_model\" style=\"display: table; text-align: left; width: 100%;\"><span class=\"p5_cell_content\" title=\"Z4\">Z4</span></div></div><div class=\"p5_table_rec datarow unavailable link\" id=\"modelTable_Z8\" tabindex=\"0\" style=\"max-height: 396px;\"><div class=\"p5_table_cell p5t13_model\" style=\"display: table; text-align: left; width: 100%;\"><span class=\"p5_cell_content\" title=\"Z8\">Z8</span></div></div><div class=\"p5_table_rec datarow unavailable link\" id=\"modelTable_i3\" tabindex=\"0\" style=\"max-height: 396px;\"><div class=\"p5_table_cell p5t13_model\" style=\"display: table; text-align: left; width: 100%;\"><span class=\"p5_cell_content\" title=\"i3 35L/40L G28 BEV\">i3 35L/40L G28 BEV</span></div></div><div class=\"p5_table_rec datarow unavailable link\" id=\"modelTable_i4\" tabindex=\"0\" style=\"max-height: 396px;\"><div class=\"p5_table_cell p5t13_model\" style=\"display: table; text-align: left; width: 100%;\"><span class=\"p5_cell_content\" title=\"i4 G26 Gran Coupé\">i4 G26 Gran Coupé</span></div></div><div class=\"p5_table_rec datarow unavailable link\" id=\"modelTable_i8\" tabindex=\"0\" style=\"max-height: 396px;\"><div class=\"p5_table_cell p5t13_model\" style=\"display: table; text-align: left; width: 100%;\"><span class=\"p5_cell_content\" title=\"i8\">i8</span></div></div><div class=\"p5_table_rec datarow unavailable link\" id=\"modelTable_iX\" tabindex=\"0\" style=\"max-height: 396px;\"><div class=\"p5_table_cell p5t13_model\" style=\"display: table; text-align: left; width: 100%;\"><span class=\"p5_cell_content\" title=\"iX\">iX</span></div></div><div class=\"p5_table_rec datarow unavailable link\" id=\"modelTable_iX3\" tabindex=\"0\" style=\"max-height: 396px;\"><div class=\"p5_table_cell p5t13_model\" style=\"display: table; text-align: left; width: 100%;\"><span class=\"p5_cell_content\" title=\"iX3 G08 BEV\">iX3 G08 BEV</span></div></div><div class=\"p5_table_rec datarow unavailable link\" id=\"modelTable_1500-2000CS\" tabindex=\"0\" style=\"max-height: 396px;\"><div class=\"p5_table_cell p5t13_model\" style=\"display: table; text-align: left; width: 100%;\"><span class=\"p5_cell_content\" title=\"1500-2000CS\">1500-2000CS</span></div></div><div class=\"p5_table_rec datarow unavailable link\" id=\"modelTable_1502-2002tii\" tabindex=\"0\" style=\"max-height: 396px;\"><div class=\"p5_table_cell p5t13_model\" style=\"display: table; text-align: left; width: 100%;\"><span class=\"p5_cell_content\" title=\"1502-2002tii\">1502-2002tii</span></div></div><div class=\"p5_table_rec datarow unavailable link\" id=\"modelTable_2.5CS-3.0CSL\" tabindex=\"0\" style=\"max-height: 396px;\"><div class=\"p5_table_cell p5t13_model\" style=\"display: table; text-align: left; width: 100%;\"><span class=\"p5_cell_content\" title=\"2.5CS-3.0CSL\">2.5CS-3.0CSL</span></div></div><div class=\"p5_table_rec datarow unavailable link\" id=\"modelTable_2500-3.3Li\" tabindex=\"0\" style=\"max-height: 396px;\"><div class=\"p5_table_cell p5t13_model\" style=\"display: table; text-align: left; width: 100%;\"><span class=\"p5_cell_content\" title=\"2500-3.3Li\">2500-3.3Li</span></div></div><div class=\"p5_table_rec datarow unavailable link\" id=\"modelTable_700\" tabindex=\"0\" style=\"max-height: 396px;\"><div class=\"p5_table_cell p5t13_model\" style=\"display: table; text-align: left; width: 100%;\"><span class=\"p5_cell_content\" title=\"700\">700</span></div></div><div class=\"p5_table_rec datarow unavailable link\" id=\"modelTable_BMW\" tabindex=\"0\" style=\"max-height: 396px;\"><div class=\"p5_table_cell p5t13_model\" style=\"display: table; text-align: left; width: 100%;\"><span class=\"p5_cell_content\" title=\"BMW Classic Motorsport\">BMW Classic Motorsport</span></div></div><div class=\"p5_table_rec datarow unavailable link\" id=\"modelTable_Isetta\" tabindex=\"0\" style=\"max-height: 396px;\"><div class=\"p5_table_cell p5t13_model\" style=\"display: table; text-align: left; width: 100%;\"><span class=\"p5_cell_content\" title=\"Isetta\">Isetta</span></div></div><div class=\"p5_table_rec datarow unavailable link\" id=\"modelTable_M1\" tabindex=\"0\" style=\"max-height: 396px;\"><div class=\"p5_table_cell p5t13_model\" style=\"display: table; text-align: left; width: 100%;\"><span class=\"p5_cell_content\" title=\"M1\">M1</span></div></div><div class=\"p5_table_rec datarow unavailable link\" id=\"modelTable_V8\" tabindex=\"0\" style=\"max-height: 396px;\"><div class=\"p5_table_cell p5t13_model\" style=\"display: table; text-align: left; width: 100%;\"><span class=\"p5_cell_content\" title=\"V8\">V8</span></div></div><div class=\"p5_table_rec datarow unavailable link\" id=\"modelTable_Veteranen\" tabindex=\"0\" style=\"max-height: 396px;\"><div class=\"p5_table_cell p5t13_model\" style=\"display: table; text-align: left; width: 100%;\"><span class=\"p5_cell_content\" title=\"Veteranen\">Veteranen</span></div></div><div class=\"p5_table_rec datarow unavailable link\" id=\"modelTable_Z3\" tabindex=\"0\" style=\"max-height: 396px;\"><div class=\"p5_table_cell p5t13_model\" style=\"display: table; text-align: left; width: 100%;\"><span class=\"p5_cell_content\" title=\"Z3\">Z3</span></div></div><div class=\"p5_table_rec sectionrow unavailable\" id=\"modelTable__OTHER_\" style=\"max-height: 396px;\"><div class=\"p5_table_cell p5t13_model\" style=\"display: table; text-align: left; width: 100%;\"><span class=\"p5_cell_content\" title=\"Other products\">Other products</span></div></div><div class=\"p5_table_rec datarow unavailable link\" id=\"modelTable__SK_\" tabindex=\"0\" style=\"max-height: 396px;\"><div class=\"p5_table_cell p5t13_model\" style=\"display: table; text-align: left; width: 100%;\"><span class=\"p5_cell_content\" title=\"Special Catalogues\">Special Catalogues</span></div></div><div class=\"p5_table_rec datarow unavailable link\" id=\"modelTable__ABBR_\" tabindex=\"0\" style=\"max-height: 396px;\"><div class=\"p5_table_cell p5t13_model\" style=\"display: table; text-align: left; width: 100%;\"><span class=\"p5_cell_content\" title=\"Abbreviations\">Abbreviations</span></div></div></div></div></div></div><div class=\"nav_widget_container col_cont\" id=\"wid-modelTypeTable\" style=\"left: 20%; width: 20%;\"><div class=\"nav_widget_content\"><div class=\"p5_table_container\"><div class=\"p5_table_head\"><div class=\"p5t14_caption p5_table_cell\" title=\"Tech. Info\" style=\"text-align: left; width: 40%;\">Tech. Info</div><div class=\"p5t14_timeRange p5_table_cell\" title=\"Date of production\" style=\"text-align: left; width: 60%;\">Date of production</div></div><div class=\"p5_table_data\"><div class=\"p5_table_rec datarow link clicked p5_selected\" id=\"modelTypeTable_E53\" tabindex=\"0\" style=\"max-height: 396px;\"><div class=\"p5_table_cell p5t14_caption\" style=\"display: table; text-align: left; width: 40%;\"><span class=\"p5_cell_content\" title=\"E53\">E53</span></div><div class=\"p5_table_cell p5t14_timeRange\" style=\"display: table; text-align: left; width: 60%;\"><span class=\"p5_cell_content\" title=\"(09/1999 - 08/2006)\">(09/1999 - 08/2006)</span></div></div><div class=\"p5_table_rec datarow unavailable link\" id=\"modelTypeTable_E70\" tabindex=\"0\" style=\"max-height: 396px;\"><div class=\"p5_table_cell p5t14_caption\" style=\"display: table; text-align: left; width: 40%;\"><span class=\"p5_cell_content\" title=\"E70\">E70</span></div><div class=\"p5_table_cell p5t14_timeRange\" style=\"display: table; text-align: left; width: 60%;\"><span class=\"p5_cell_content\" title=\"(10/2006 - 05/2013)\">(10/2006 - 05/2013)</span></div></div><div class=\"p5_table_rec datarow unavailable link\" id=\"modelTypeTable_E70N\" tabindex=\"0\" style=\"max-height: 396px;\"><div class=\"p5_table_cell p5t14_caption\" style=\"display: table; text-align: left; width: 40%;\"><span class=\"p5_cell_content\" title=\"E70 LCI\">E70 LCI</span></div><div class=\"p5_table_cell p5t14_timeRange\" style=\"display: table; text-align: left; width: 60%;\"><span class=\"p5_cell_content\" title=\"(04/2010 - 05/2013)\">(04/2010 - 05/2013)</span></div></div><div class=\"p5_table_rec datarow unavailable link\" id=\"modelTypeTable_F15\" tabindex=\"0\" style=\"max-height: 396px;\"><div class=\"p5_table_cell p5t14_caption\" style=\"display: table; text-align: left; width: 40%;\"><span class=\"p5_cell_content\" title=\"F15\">F15</span></div><div class=\"p5_table_cell p5t14_timeRange\" style=\"display: table; text-align: left; width: 60%;\"><span class=\"p5_cell_content\" title=\"(08/2013 - 05/2018)\">(08/2013 - 05/2018)</span></div></div><div class=\"p5_table_rec datarow unavailable link\" id=\"modelTypeTable_G05\" tabindex=\"0\" style=\"max-height: 396px;\"><div class=\"p5_table_cell p5t14_caption\" style=\"display: table; text-align: left; width: 40%;\"><span class=\"p5_cell_content\" title=\"G05\">G05</span></div><div class=\"p5_table_cell p5t14_timeRange\" style=\"display: table; text-align: left; width: 60%;\"><span class=\"p5_cell_content\" title=\"(08/2018 - 02/2023)\">(08/2018 - 02/2023)</span></div></div><div class=\"p5_table_rec datarow unavailable link\" id=\"modelTypeTable_G05N\" tabindex=\"0\" style=\"max-height: 396px;\"><div class=\"p5_table_cell p5t14_caption\" style=\"display: table; text-align: left; width: 40%;\"><span class=\"p5_cell_content\" title=\"G05 LCI\">G05 LCI</span></div><div class=\"p5_table_cell p5t14_timeRange\" style=\"display: table; text-align: left; width: 60%;\"><span class=\"p5_cell_content\" title=\"(04/2023 - 07/2023)\">(04/2023 - 07/2023)</span></div></div><div class=\"p5_table_rec datarow unavailable link\" id=\"modelTypeTable_G18\" tabindex=\"0\" style=\"max-height: 396px;\"><div class=\"p5_table_cell p5t14_caption\" style=\"display: table; text-align: left; width: 40%;\"><span class=\"p5_cell_content\" title=\"G18\">G18</span></div><div class=\"p5_table_cell p5t14_timeRange\" style=\"display: table; text-align: left; width: 60%;\"><span class=\"p5_cell_content\" title=\"(04/2022 - 06/2023)\">(04/2022 - 06/2023)</span></div></div><div class=\"p5_table_rec datarow unavailable link\" id=\"modelTypeTable_F85\" tabindex=\"0\" style=\"max-height: 396px;\"><div class=\"p5_table_cell p5t14_caption\" style=\"display: table; text-align: left; width: 40%;\"><span class=\"p5_cell_content\" title=\"M F85\">M F85</span></div><div class=\"p5_table_cell p5t14_timeRange\" style=\"display: table; text-align: left; width: 60%;\"><span class=\"p5_cell_content\" title=\"(12/2014 - 05/2018)\">(12/2014 - 05/2018)</span></div></div><div class=\"p5_table_rec datarow unavailable link\" id=\"modelTypeTable_F95\" tabindex=\"0\" style=\"max-height: 396px;\"><div class=\"p5_table_cell p5t14_caption\" style=\"display: table; text-align: left; width: 40%;\"><span class=\"p5_cell_content\" title=\"M F95\">M F95</span></div><div class=\"p5_table_cell p5t14_timeRange\" style=\"display: table; text-align: left; width: 60%;\"><span class=\"p5_cell_content\" title=\"(12/2019 - 02/2023)\">(12/2019 - 02/2023)</span></div></div><div class=\"p5_table_rec datarow unavailable link\" id=\"modelTypeTable_F95N\" tabindex=\"0\" style=\"max-height: 396px;\"><div class=\"p5_table_cell p5t14_caption\" style=\"display: table; text-align: left; width: 40%;\"><span class=\"p5_cell_content\" title=\"M F95 LCI\">M F95 LCI</span></div><div class=\"p5_table_cell p5t14_timeRange\" style=\"display: table; text-align: left; width: 60%;\"><span class=\"p5_cell_content\" title=\"(04/2023 - 05/2023)\">(04/2023 - 05/2023)</span></div></div></div></div></div></div><div class=\"nav_widget_container col_cont\" id=\"wid-restrictionTable1\" style=\"left: 40%; width: 20%;\"><div class=\"nav_widget_content\"><div class=\"p5_table_container\"><div class=\"p5_table_head\"><div class=\"p5t15_restriction p5_table_cell\" title=\"Restrictions I\" style=\"text-align: left; width: 100%;\">Restrictions I</div></div><div class=\"p5_table_data\"><div class=\"p5_table_rec datarow link clicked p5_selected\" id=\"restrictionTable1_SAV\" tabindex=\"0\" style=\"max-height: 396px;\"><div class=\"p5_table_cell p5t15_restriction\" style=\"display: table; text-align: left; width: 100%;\"><span class=\"p5_cell_content\" title=\"SAV\">SAV</span></div></div></div></div></div></div><div class=\"nav_widget_container col_cont\" id=\"wid-restrictionTable2\" style=\"left: 60%; width: 20%;\"><div class=\"nav_widget_content\"><div class=\"p5_table_container\"><div class=\"p5_table_head\"><div class=\"p5t16_restriction p5_table_cell\" title=\"Restrictions II\" style=\"text-align: left; width: 100%;\">Restrictions II</div></div><div class=\"p5_table_data\"><div class=\"p5_table_rec datarow unavailable link\" id=\"restrictionTable2_X5 3.0d M57\" tabindex=\"0\" style=\"max-height: 396px;\"><div class=\"p5_table_cell p5t16_restriction\" style=\"display: table; text-align: left; width: 100%;\"><span class=\"p5_cell_content\" title=\"X5 3.0d M57\">X5 3.0d M57</span></div></div><div class=\"p5_table_rec datarow unavailable link\" id=\"restrictionTable2_X5 3.0d M57N\" tabindex=\"0\" style=\"max-height: 396px;\"><div class=\"p5_table_cell p5t16_restriction\" style=\"display: table; text-align: left; width: 100%;\"><span class=\"p5_cell_content\" title=\"X5 3.0d M57N\">X5 3.0d M57N</span></div></div><div class=\"p5_table_rec datarow unavailable link\" id=\"restrictionTable2_X5 3.0i\" tabindex=\"0\" style=\"max-height: 396px;\"><div class=\"p5_table_cell p5t16_restriction\" style=\"display: table; text-align: left; width: 100%;\"><span class=\"p5_cell_content\" title=\"X5 3.0i\">X5 3.0i</span></div></div><div class=\"p5_table_rec datarow unavailable link\" id=\"restrictionTable2_X5 4.4i M62\" tabindex=\"0\" style=\"max-height: 396px;\"><div class=\"p5_table_cell p5t16_restriction\" style=\"display: table; text-align: left; width: 100%;\"><span class=\"p5_cell_content\" title=\"X5 4.4i M62\">X5 4.4i M62</span></div></div><div class=\"p5_table_rec datarow unavailable link\" id=\"restrictionTable2_X5 4.4i N62\" tabindex=\"0\" style=\"max-height: 396px;\"><div class=\"p5_table_cell p5t16_restriction\" style=\"display: table; text-align: left; width: 100%;\"><span class=\"p5_cell_content\" title=\"X5 4.4i N62\">X5 4.4i N62</span></div></div><div class=\"p5_table_rec datarow unavailable link\" id=\"restrictionTable2_X5 4.6is\" tabindex=\"0\" style=\"max-height: 396px;\"><div class=\"p5_table_cell p5t16_restriction\" style=\"display: table; text-align: left; width: 100%;\"><span class=\"p5_cell_content\" title=\"X5 4.6is\">X5 4.6is</span></div></div><div class=\"p5_table_rec datarow link clicked p5_selected\" id=\"restrictionTable2_X5 4.8is\" tabindex=\"0\" style=\"max-height: 396px;\"><div class=\"p5_table_cell p5t16_restriction\" style=\"display: table; text-align: left; width: 100%;\"><span class=\"p5_cell_content\" title=\"X5 4.8is\">X5 4.8is</span></div></div></div></div></div></div><div class=\"nav_widget_container col_cont\" id=\"wid-restrictionTable3\" style=\"left: 80%; width: 20%;\"><div class=\"nav_widget_content\"><div class=\"p5_table_container\"><div class=\"p5_table_head\"><div class=\"p5t17_restriction p5_table_cell\" title=\"Restrictions III\" style=\"text-align: left; width: 100%;\">Restrictions III</div></div><div class=\"p5_table_data\"><div class=\"p5_table_rec datarow link clicked p5_selected\" id=\"restrictionTable3_ECE\" tabindex=\"0\" style=\"max-height: 396px;\"><div class=\"p5_table_cell p5t17_restriction\" style=\"display: table; text-align: left; width: 100%;\"><span class=\"p5_cell_content\" title=\"ECE\">ECE</span></div></div><div class=\"p5_table_rec datarow unavailable link\" id=\"restrictionTable3_USA\" tabindex=\"0\" style=\"max-height: 396px;\"><div class=\"p5_table_cell p5t17_restriction\" style=\"display: table; text-align: left; width: 100%;\"><span class=\"p5_cell_content\" title=\"USA\">USA</span></div></div></div></div></div></div></div></div>\\n</div>\\n<div id=\"frbddn_cntnt\" style=\"display: none;\"></div>\\n<script charset=\"utf-8\" src=\"jquery-3.6.3.min.js\"></script>\\n<script charset=\"utf-8\" src=\"galleria/galleria.min.js\"></script>\\n<script charset=\"utf-8\" src=\"galleria/galleria.classic.min.js\"></script>\\n<!-- <script charset=\"utf-8\" src=\"jquery-3.6.3.js\"></script> -->\\n<script charset=\"utf-8\" src=\"app-1.10.8.min.js\"></script><div id=\"local_vin_storage\" style=\"width: 300px; display: none;\"></div>\\n\\n\\n</body></html>'"
      ]
     },
     "execution_count": 6,
     "metadata": {},
     "output_type": "execute_result"
    }
   ],
   "source": [
    "driver.page_source"
   ]
  },
  {
   "cell_type": "code",
   "execution_count": 26,
   "metadata": {},
   "outputs": [
    {
     "name": "stdout",
     "output_type": "stream",
     "text": [
      "https://www.partslink24.com/p5bmw/extern/vehicle/models?lang=en&serviceName=bmw_parts&_=1692112021825\n",
      "Response JSON Data: {'crumbs': [{'name': 'BMW', 'link': {'wid': 'modelTable', 'path': '/p5bmw/extern/vehicle/models?lang=en&serviceName=bmw_parts&upds=2023-07-13--12-55'}}], 'demo': True, 'data': {'records': [{'id': \"1'\", 'link': {'wid': 'modelTypeTable', 'path': '/p5bmw/extern/vehicle/modeltypes?lang=en&mdl=1%27&serviceName=bmw_parts&upds=2023-07-13--12-55'}, 'unavailable': True, 'values': {'model': \"1'\"}}, {'id': \"2'\", 'link': {'wid': 'modelTypeTable', 'path': '/p5bmw/extern/vehicle/modeltypes?lang=en&mdl=2%27&serviceName=bmw_parts&upds=2023-07-13--12-55'}, 'unavailable': True, 'values': {'model': \"2'\"}}, {'id': \"3'\", 'link': {'wid': 'modelTypeTable', 'path': '/p5bmw/extern/vehicle/modeltypes?lang=en&mdl=3%27&serviceName=bmw_parts&upds=2023-07-13--12-55'}, 'unavailable': True, 'values': {'model': \"3'\"}}, {'id': \"4'\", 'link': {'wid': 'modelTypeTable', 'path': '/p5bmw/extern/vehicle/modeltypes?lang=en&mdl=4%27&serviceName=bmw_parts&upds=2023-07-13--12-55'}, 'unavailable': True, 'values': {'model': \"4'\"}}, {'id': \"5'\", 'link': {'wid': 'modelTypeTable', 'path': '/p5bmw/extern/vehicle/modeltypes?lang=en&mdl=5%27&serviceName=bmw_parts&upds=2023-07-13--12-55'}, 'unavailable': True, 'values': {'model': \"5'\"}}, {'id': \"6'\", 'link': {'wid': 'modelTypeTable', 'path': '/p5bmw/extern/vehicle/modeltypes?lang=en&mdl=6%27&serviceName=bmw_parts&upds=2023-07-13--12-55'}, 'unavailable': True, 'values': {'model': \"6' F06 Gran Coupé\"}}, {'id': \"7'\", 'link': {'wid': 'modelTypeTable', 'path': '/p5bmw/extern/vehicle/modeltypes?lang=en&mdl=7%27&serviceName=bmw_parts&upds=2023-07-13--12-55'}, 'unavailable': True, 'values': {'model': \"7'\"}}, {'id': \"8'\", 'link': {'wid': 'modelTypeTable', 'path': '/p5bmw/extern/vehicle/modeltypes?lang=en&mdl=8%27&serviceName=bmw_parts&upds=2023-07-13--12-55'}, 'unavailable': True, 'values': {'model': \"8'\"}}, {'id': 'MS', 'link': {'wid': 'modelTypeTable', 'path': '/p5bmw/extern/vehicle/modeltypes?lang=en&mdl=MS&serviceName=bmw_parts&upds=2023-07-13--12-55'}, 'unavailable': True, 'values': {'model': 'MS BMW Motorsport'}}, {'id': 'X1', 'link': {'wid': 'modelTypeTable', 'path': '/p5bmw/extern/vehicle/modeltypes?lang=en&mdl=X1&serviceName=bmw_parts&upds=2023-07-13--12-55'}, 'unavailable': True, 'values': {'model': 'X1'}}, {'id': 'X2', 'link': {'wid': 'modelTypeTable', 'path': '/p5bmw/extern/vehicle/modeltypes?lang=en&mdl=X2&serviceName=bmw_parts&upds=2023-07-13--12-55'}, 'unavailable': True, 'values': {'model': 'X2'}}, {'id': 'X3', 'link': {'wid': 'modelTypeTable', 'path': '/p5bmw/extern/vehicle/modeltypes?lang=en&mdl=X3&serviceName=bmw_parts&upds=2023-07-13--12-55'}, 'unavailable': True, 'values': {'model': 'X3'}}, {'id': 'X4', 'link': {'wid': 'modelTypeTable', 'path': '/p5bmw/extern/vehicle/modeltypes?lang=en&mdl=X4&serviceName=bmw_parts&upds=2023-07-13--12-55'}, 'unavailable': True, 'values': {'model': 'X4'}}, {'id': 'X5', 'link': {'wid': 'modelTypeTable', 'path': '/p5bmw/extern/vehicle/modeltypes?lang=en&mdl=X5&serviceName=bmw_parts&upds=2023-07-13--12-55'}, 'presel': True, 'preselFollow': True, 'values': {'model': 'X5'}}, {'id': 'X6', 'link': {'wid': 'modelTypeTable', 'path': '/p5bmw/extern/vehicle/modeltypes?lang=en&mdl=X6&serviceName=bmw_parts&upds=2023-07-13--12-55'}, 'unavailable': True, 'values': {'model': 'X6'}}, {'id': 'X7', 'link': {'wid': 'modelTypeTable', 'path': '/p5bmw/extern/vehicle/modeltypes?lang=en&mdl=X7&serviceName=bmw_parts&upds=2023-07-13--12-55'}, 'unavailable': True, 'values': {'model': 'X7'}}, {'id': 'XM', 'link': {'wid': 'modelTypeTable', 'path': '/p5bmw/extern/vehicle/modeltypes?lang=en&mdl=XM&serviceName=bmw_parts&upds=2023-07-13--12-55'}, 'unavailable': True, 'values': {'model': 'XM'}}, {'id': 'Z1', 'link': {'wid': 'modelTypeTable', 'path': '/p5bmw/extern/vehicle/modeltypes?lang=en&mdl=Z1&serviceName=bmw_parts&upds=2023-07-13--12-55'}, 'unavailable': True, 'values': {'model': 'Z1'}}, {'id': 'Z4', 'link': {'wid': 'modelTypeTable', 'path': '/p5bmw/extern/vehicle/modeltypes?lang=en&mdl=Z4&serviceName=bmw_parts&upds=2023-07-13--12-55'}, 'unavailable': True, 'values': {'model': 'Z4'}}, {'id': 'Z8', 'link': {'wid': 'modelTypeTable', 'path': '/p5bmw/extern/vehicle/modeltypes?lang=en&mdl=Z8&serviceName=bmw_parts&upds=2023-07-13--12-55'}, 'unavailable': True, 'values': {'model': 'Z8'}}, {'id': 'i3', 'link': {'wid': 'modelTypeTable', 'path': '/p5bmw/extern/vehicle/modeltypes?lang=en&mdl=i3&serviceName=bmw_parts&upds=2023-07-13--12-55'}, 'unavailable': True, 'values': {'model': 'i3 35L/40L G28 BEV'}}, {'id': 'i4', 'link': {'wid': 'modelTypeTable', 'path': '/p5bmw/extern/vehicle/modeltypes?lang=en&mdl=i4&serviceName=bmw_parts&upds=2023-07-13--12-55'}, 'unavailable': True, 'values': {'model': 'i4 G26 Gran Coupé'}}, {'id': 'i8', 'link': {'wid': 'modelTypeTable', 'path': '/p5bmw/extern/vehicle/modeltypes?lang=en&mdl=i8&serviceName=bmw_parts&upds=2023-07-13--12-55'}, 'unavailable': True, 'values': {'model': 'i8'}}, {'id': 'iX', 'link': {'wid': 'modelTypeTable', 'path': '/p5bmw/extern/vehicle/modeltypes?lang=en&mdl=iX&serviceName=bmw_parts&upds=2023-07-13--12-55'}, 'unavailable': True, 'values': {'model': 'iX'}}, {'id': 'iX3', 'link': {'wid': 'modelTypeTable', 'path': '/p5bmw/extern/vehicle/modeltypes?lang=en&mdl=iX3&serviceName=bmw_parts&upds=2023-07-13--12-55'}, 'unavailable': True, 'values': {'model': 'iX3 G08 BEV'}}, {'id': '1500-2000CS', 'link': {'wid': 'modelTypeTable', 'path': '/p5bmw/extern/vehicle/modeltypes?lang=en&mdl=1500-2000CS&serviceName=bmw_parts&upds=2023-07-13--12-55'}, 'unavailable': True, 'values': {'model': '1500\\\\-2000CS'}}, {'id': '1502-2002tii', 'link': {'wid': 'modelTypeTable', 'path': '/p5bmw/extern/vehicle/modeltypes?lang=en&mdl=1502-2002tii&serviceName=bmw_parts&upds=2023-07-13--12-55'}, 'unavailable': True, 'values': {'model': '1502\\\\-2002tii'}}, {'id': '2.5CS-3.0CSL', 'link': {'wid': 'modelTypeTable', 'path': '/p5bmw/extern/vehicle/modeltypes?lang=en&mdl=2.5CS-3.0CSL&serviceName=bmw_parts&upds=2023-07-13--12-55'}, 'unavailable': True, 'values': {'model': '2.5CS\\\\-3.0CSL'}}, {'id': '2500-3.3Li', 'link': {'wid': 'modelTypeTable', 'path': '/p5bmw/extern/vehicle/modeltypes?lang=en&mdl=2500-3.3Li&serviceName=bmw_parts&upds=2023-07-13--12-55'}, 'unavailable': True, 'values': {'model': '2500\\\\-3.3Li'}}, {'id': '700', 'link': {'wid': 'modelTypeTable', 'path': '/p5bmw/extern/vehicle/modeltypes?lang=en&mdl=700&serviceName=bmw_parts&upds=2023-07-13--12-55'}, 'unavailable': True, 'values': {'model': '700'}}, {'id': 'BMW', 'link': {'wid': 'modelTypeTable', 'path': '/p5bmw/extern/vehicle/modeltypes?lang=en&mdl=BMW&serviceName=bmw_parts&upds=2023-07-13--12-55'}, 'unavailable': True, 'values': {'model': 'BMW Classic Motorsport'}}, {'id': 'Isetta', 'link': {'wid': 'modelTypeTable', 'path': '/p5bmw/extern/vehicle/modeltypes?lang=en&mdl=Isetta&serviceName=bmw_parts&upds=2023-07-13--12-55'}, 'unavailable': True, 'values': {'model': 'Isetta'}}, {'id': 'M1', 'link': {'wid': 'modelTypeTable', 'path': '/p5bmw/extern/vehicle/modeltypes?lang=en&mdl=M1&serviceName=bmw_parts&upds=2023-07-13--12-55'}, 'unavailable': True, 'values': {'model': 'M1'}}, {'id': 'V8', 'link': {'wid': 'modelTypeTable', 'path': '/p5bmw/extern/vehicle/modeltypes?lang=en&mdl=V8&serviceName=bmw_parts&upds=2023-07-13--12-55'}, 'unavailable': True, 'values': {'model': 'V8'}}, {'id': 'Veteranen', 'link': {'wid': 'modelTypeTable', 'path': '/p5bmw/extern/vehicle/modeltypes?lang=en&mdl=Veteranen&serviceName=bmw_parts&upds=2023-07-13--12-55'}, 'unavailable': True, 'values': {'model': 'Veteranen'}}, {'id': 'Z3', 'link': {'wid': 'modelTypeTable', 'path': '/p5bmw/extern/vehicle/modeltypes?lang=en&mdl=Z3&serviceName=bmw_parts&upds=2023-07-13--12-55'}, 'unavailable': True, 'values': {'model': 'Z3'}}, {'characteristic': 'sectionrow', 'id': '_OTHER_', 'unavailable': True, 'values': {'model': 'Other products'}}, {'id': '_SK_', 'link': {'wid': 'mainGroupsTable', 'path': '/p5bmw/extern/groups/main-ugb?lang=en&serviceName=bmw_parts&upds=2023-07-13--12-55'}, 'unavailable': True, 'values': {'model': 'Special Catalogues'}}, {'id': '_ABBR_', 'link': {'wid': 'abbreviations', 'path': '/p5bmw/extern/abbreviations?lang=en&serviceName=bmw_parts&upds=2023-07-13--12-55'}, 'unavailable': True, 'values': {'model': 'Abbreviations'}}]}}\n"
     ]
    }
   ],
   "source": [
    "import gzip\n",
    "for request in driver.requests:\n",
    "    if request.response and 'models?' in request.url :\n",
    "        content_type = request.response.headers.get('Content-Type', '')\n",
    "        if 'json' in content_type:\n",
    "            if 'gzip' in request.response.headers.get('Content-Encoding', ''):\n",
    "                # 解压缩数据\n",
    "                compressed_data = request.response.body\n",
    "                decompressed_data = gzip.decompress(compressed_data)\n",
    "                \n",
    "                # 解码为字符串\n",
    "                decoded_data = decompressed_data.decode('utf-8')\n",
    "                \n",
    "                # 解析为 JSON\n",
    "                response_json = json.loads(decoded_data)\n",
    "                print(request.url)\n",
    "                print(\"Response JSON Data:\", response_json)\n",
    "                break"
   ]
  },
  {
   "cell_type": "code",
   "execution_count": 28,
   "metadata": {},
   "outputs": [
    {
     "data": {
      "text/plain": [
       "{'records': [{'id': \"1'\",\n",
       "   'link': {'wid': 'modelTypeTable',\n",
       "    'path': '/p5bmw/extern/vehicle/modeltypes?lang=en&mdl=1%27&serviceName=bmw_parts&upds=2023-07-13--12-55'},\n",
       "   'unavailable': True,\n",
       "   'values': {'model': \"1'\"}},\n",
       "  {'id': \"2'\",\n",
       "   'link': {'wid': 'modelTypeTable',\n",
       "    'path': '/p5bmw/extern/vehicle/modeltypes?lang=en&mdl=2%27&serviceName=bmw_parts&upds=2023-07-13--12-55'},\n",
       "   'unavailable': True,\n",
       "   'values': {'model': \"2'\"}},\n",
       "  {'id': \"3'\",\n",
       "   'link': {'wid': 'modelTypeTable',\n",
       "    'path': '/p5bmw/extern/vehicle/modeltypes?lang=en&mdl=3%27&serviceName=bmw_parts&upds=2023-07-13--12-55'},\n",
       "   'unavailable': True,\n",
       "   'values': {'model': \"3'\"}},\n",
       "  {'id': \"4'\",\n",
       "   'link': {'wid': 'modelTypeTable',\n",
       "    'path': '/p5bmw/extern/vehicle/modeltypes?lang=en&mdl=4%27&serviceName=bmw_parts&upds=2023-07-13--12-55'},\n",
       "   'unavailable': True,\n",
       "   'values': {'model': \"4'\"}},\n",
       "  {'id': \"5'\",\n",
       "   'link': {'wid': 'modelTypeTable',\n",
       "    'path': '/p5bmw/extern/vehicle/modeltypes?lang=en&mdl=5%27&serviceName=bmw_parts&upds=2023-07-13--12-55'},\n",
       "   'unavailable': True,\n",
       "   'values': {'model': \"5'\"}},\n",
       "  {'id': \"6'\",\n",
       "   'link': {'wid': 'modelTypeTable',\n",
       "    'path': '/p5bmw/extern/vehicle/modeltypes?lang=en&mdl=6%27&serviceName=bmw_parts&upds=2023-07-13--12-55'},\n",
       "   'unavailable': True,\n",
       "   'values': {'model': \"6' F06 Gran Coupé\"}},\n",
       "  {'id': \"7'\",\n",
       "   'link': {'wid': 'modelTypeTable',\n",
       "    'path': '/p5bmw/extern/vehicle/modeltypes?lang=en&mdl=7%27&serviceName=bmw_parts&upds=2023-07-13--12-55'},\n",
       "   'unavailable': True,\n",
       "   'values': {'model': \"7'\"}},\n",
       "  {'id': \"8'\",\n",
       "   'link': {'wid': 'modelTypeTable',\n",
       "    'path': '/p5bmw/extern/vehicle/modeltypes?lang=en&mdl=8%27&serviceName=bmw_parts&upds=2023-07-13--12-55'},\n",
       "   'unavailable': True,\n",
       "   'values': {'model': \"8'\"}},\n",
       "  {'id': 'MS',\n",
       "   'link': {'wid': 'modelTypeTable',\n",
       "    'path': '/p5bmw/extern/vehicle/modeltypes?lang=en&mdl=MS&serviceName=bmw_parts&upds=2023-07-13--12-55'},\n",
       "   'unavailable': True,\n",
       "   'values': {'model': 'MS BMW Motorsport'}},\n",
       "  {'id': 'X1',\n",
       "   'link': {'wid': 'modelTypeTable',\n",
       "    'path': '/p5bmw/extern/vehicle/modeltypes?lang=en&mdl=X1&serviceName=bmw_parts&upds=2023-07-13--12-55'},\n",
       "   'unavailable': True,\n",
       "   'values': {'model': 'X1'}},\n",
       "  {'id': 'X2',\n",
       "   'link': {'wid': 'modelTypeTable',\n",
       "    'path': '/p5bmw/extern/vehicle/modeltypes?lang=en&mdl=X2&serviceName=bmw_parts&upds=2023-07-13--12-55'},\n",
       "   'unavailable': True,\n",
       "   'values': {'model': 'X2'}},\n",
       "  {'id': 'X3',\n",
       "   'link': {'wid': 'modelTypeTable',\n",
       "    'path': '/p5bmw/extern/vehicle/modeltypes?lang=en&mdl=X3&serviceName=bmw_parts&upds=2023-07-13--12-55'},\n",
       "   'unavailable': True,\n",
       "   'values': {'model': 'X3'}},\n",
       "  {'id': 'X4',\n",
       "   'link': {'wid': 'modelTypeTable',\n",
       "    'path': '/p5bmw/extern/vehicle/modeltypes?lang=en&mdl=X4&serviceName=bmw_parts&upds=2023-07-13--12-55'},\n",
       "   'unavailable': True,\n",
       "   'values': {'model': 'X4'}},\n",
       "  {'id': 'X5',\n",
       "   'link': {'wid': 'modelTypeTable',\n",
       "    'path': '/p5bmw/extern/vehicle/modeltypes?lang=en&mdl=X5&serviceName=bmw_parts&upds=2023-07-13--12-55'},\n",
       "   'presel': True,\n",
       "   'preselFollow': True,\n",
       "   'values': {'model': 'X5'}},\n",
       "  {'id': 'X6',\n",
       "   'link': {'wid': 'modelTypeTable',\n",
       "    'path': '/p5bmw/extern/vehicle/modeltypes?lang=en&mdl=X6&serviceName=bmw_parts&upds=2023-07-13--12-55'},\n",
       "   'unavailable': True,\n",
       "   'values': {'model': 'X6'}},\n",
       "  {'id': 'X7',\n",
       "   'link': {'wid': 'modelTypeTable',\n",
       "    'path': '/p5bmw/extern/vehicle/modeltypes?lang=en&mdl=X7&serviceName=bmw_parts&upds=2023-07-13--12-55'},\n",
       "   'unavailable': True,\n",
       "   'values': {'model': 'X7'}},\n",
       "  {'id': 'XM',\n",
       "   'link': {'wid': 'modelTypeTable',\n",
       "    'path': '/p5bmw/extern/vehicle/modeltypes?lang=en&mdl=XM&serviceName=bmw_parts&upds=2023-07-13--12-55'},\n",
       "   'unavailable': True,\n",
       "   'values': {'model': 'XM'}},\n",
       "  {'id': 'Z1',\n",
       "   'link': {'wid': 'modelTypeTable',\n",
       "    'path': '/p5bmw/extern/vehicle/modeltypes?lang=en&mdl=Z1&serviceName=bmw_parts&upds=2023-07-13--12-55'},\n",
       "   'unavailable': True,\n",
       "   'values': {'model': 'Z1'}},\n",
       "  {'id': 'Z4',\n",
       "   'link': {'wid': 'modelTypeTable',\n",
       "    'path': '/p5bmw/extern/vehicle/modeltypes?lang=en&mdl=Z4&serviceName=bmw_parts&upds=2023-07-13--12-55'},\n",
       "   'unavailable': True,\n",
       "   'values': {'model': 'Z4'}},\n",
       "  {'id': 'Z8',\n",
       "   'link': {'wid': 'modelTypeTable',\n",
       "    'path': '/p5bmw/extern/vehicle/modeltypes?lang=en&mdl=Z8&serviceName=bmw_parts&upds=2023-07-13--12-55'},\n",
       "   'unavailable': True,\n",
       "   'values': {'model': 'Z8'}},\n",
       "  {'id': 'i3',\n",
       "   'link': {'wid': 'modelTypeTable',\n",
       "    'path': '/p5bmw/extern/vehicle/modeltypes?lang=en&mdl=i3&serviceName=bmw_parts&upds=2023-07-13--12-55'},\n",
       "   'unavailable': True,\n",
       "   'values': {'model': 'i3 35L/40L G28 BEV'}},\n",
       "  {'id': 'i4',\n",
       "   'link': {'wid': 'modelTypeTable',\n",
       "    'path': '/p5bmw/extern/vehicle/modeltypes?lang=en&mdl=i4&serviceName=bmw_parts&upds=2023-07-13--12-55'},\n",
       "   'unavailable': True,\n",
       "   'values': {'model': 'i4 G26 Gran Coupé'}},\n",
       "  {'id': 'i8',\n",
       "   'link': {'wid': 'modelTypeTable',\n",
       "    'path': '/p5bmw/extern/vehicle/modeltypes?lang=en&mdl=i8&serviceName=bmw_parts&upds=2023-07-13--12-55'},\n",
       "   'unavailable': True,\n",
       "   'values': {'model': 'i8'}},\n",
       "  {'id': 'iX',\n",
       "   'link': {'wid': 'modelTypeTable',\n",
       "    'path': '/p5bmw/extern/vehicle/modeltypes?lang=en&mdl=iX&serviceName=bmw_parts&upds=2023-07-13--12-55'},\n",
       "   'unavailable': True,\n",
       "   'values': {'model': 'iX'}},\n",
       "  {'id': 'iX3',\n",
       "   'link': {'wid': 'modelTypeTable',\n",
       "    'path': '/p5bmw/extern/vehicle/modeltypes?lang=en&mdl=iX3&serviceName=bmw_parts&upds=2023-07-13--12-55'},\n",
       "   'unavailable': True,\n",
       "   'values': {'model': 'iX3 G08 BEV'}},\n",
       "  {'id': '1500-2000CS',\n",
       "   'link': {'wid': 'modelTypeTable',\n",
       "    'path': '/p5bmw/extern/vehicle/modeltypes?lang=en&mdl=1500-2000CS&serviceName=bmw_parts&upds=2023-07-13--12-55'},\n",
       "   'unavailable': True,\n",
       "   'values': {'model': '1500\\\\-2000CS'}},\n",
       "  {'id': '1502-2002tii',\n",
       "   'link': {'wid': 'modelTypeTable',\n",
       "    'path': '/p5bmw/extern/vehicle/modeltypes?lang=en&mdl=1502-2002tii&serviceName=bmw_parts&upds=2023-07-13--12-55'},\n",
       "   'unavailable': True,\n",
       "   'values': {'model': '1502\\\\-2002tii'}},\n",
       "  {'id': '2.5CS-3.0CSL',\n",
       "   'link': {'wid': 'modelTypeTable',\n",
       "    'path': '/p5bmw/extern/vehicle/modeltypes?lang=en&mdl=2.5CS-3.0CSL&serviceName=bmw_parts&upds=2023-07-13--12-55'},\n",
       "   'unavailable': True,\n",
       "   'values': {'model': '2.5CS\\\\-3.0CSL'}},\n",
       "  {'id': '2500-3.3Li',\n",
       "   'link': {'wid': 'modelTypeTable',\n",
       "    'path': '/p5bmw/extern/vehicle/modeltypes?lang=en&mdl=2500-3.3Li&serviceName=bmw_parts&upds=2023-07-13--12-55'},\n",
       "   'unavailable': True,\n",
       "   'values': {'model': '2500\\\\-3.3Li'}},\n",
       "  {'id': '700',\n",
       "   'link': {'wid': 'modelTypeTable',\n",
       "    'path': '/p5bmw/extern/vehicle/modeltypes?lang=en&mdl=700&serviceName=bmw_parts&upds=2023-07-13--12-55'},\n",
       "   'unavailable': True,\n",
       "   'values': {'model': '700'}},\n",
       "  {'id': 'BMW',\n",
       "   'link': {'wid': 'modelTypeTable',\n",
       "    'path': '/p5bmw/extern/vehicle/modeltypes?lang=en&mdl=BMW&serviceName=bmw_parts&upds=2023-07-13--12-55'},\n",
       "   'unavailable': True,\n",
       "   'values': {'model': 'BMW Classic Motorsport'}},\n",
       "  {'id': 'Isetta',\n",
       "   'link': {'wid': 'modelTypeTable',\n",
       "    'path': '/p5bmw/extern/vehicle/modeltypes?lang=en&mdl=Isetta&serviceName=bmw_parts&upds=2023-07-13--12-55'},\n",
       "   'unavailable': True,\n",
       "   'values': {'model': 'Isetta'}},\n",
       "  {'id': 'M1',\n",
       "   'link': {'wid': 'modelTypeTable',\n",
       "    'path': '/p5bmw/extern/vehicle/modeltypes?lang=en&mdl=M1&serviceName=bmw_parts&upds=2023-07-13--12-55'},\n",
       "   'unavailable': True,\n",
       "   'values': {'model': 'M1'}},\n",
       "  {'id': 'V8',\n",
       "   'link': {'wid': 'modelTypeTable',\n",
       "    'path': '/p5bmw/extern/vehicle/modeltypes?lang=en&mdl=V8&serviceName=bmw_parts&upds=2023-07-13--12-55'},\n",
       "   'unavailable': True,\n",
       "   'values': {'model': 'V8'}},\n",
       "  {'id': 'Veteranen',\n",
       "   'link': {'wid': 'modelTypeTable',\n",
       "    'path': '/p5bmw/extern/vehicle/modeltypes?lang=en&mdl=Veteranen&serviceName=bmw_parts&upds=2023-07-13--12-55'},\n",
       "   'unavailable': True,\n",
       "   'values': {'model': 'Veteranen'}},\n",
       "  {'id': 'Z3',\n",
       "   'link': {'wid': 'modelTypeTable',\n",
       "    'path': '/p5bmw/extern/vehicle/modeltypes?lang=en&mdl=Z3&serviceName=bmw_parts&upds=2023-07-13--12-55'},\n",
       "   'unavailable': True,\n",
       "   'values': {'model': 'Z3'}},\n",
       "  {'characteristic': 'sectionrow',\n",
       "   'id': '_OTHER_',\n",
       "   'unavailable': True,\n",
       "   'values': {'model': 'Other products'}},\n",
       "  {'id': '_SK_',\n",
       "   'link': {'wid': 'mainGroupsTable',\n",
       "    'path': '/p5bmw/extern/groups/main-ugb?lang=en&serviceName=bmw_parts&upds=2023-07-13--12-55'},\n",
       "   'unavailable': True,\n",
       "   'values': {'model': 'Special Catalogues'}},\n",
       "  {'id': '_ABBR_',\n",
       "   'link': {'wid': 'abbreviations',\n",
       "    'path': '/p5bmw/extern/abbreviations?lang=en&serviceName=bmw_parts&upds=2023-07-13--12-55'},\n",
       "   'unavailable': True,\n",
       "   'values': {'model': 'Abbreviations'}}]}"
      ]
     },
     "execution_count": 28,
     "metadata": {},
     "output_type": "execute_result"
    }
   ],
   "source": [
    "response_json['data']"
   ]
  },
  {
   "cell_type": "code",
   "execution_count": 59,
   "metadata": {},
   "outputs": [],
   "source": [
    "elements = driver.find_elements(By.CLASS_NAME, 'brand-logo')"
   ]
  },
  {
   "cell_type": "code",
   "execution_count": 60,
   "metadata": {},
   "outputs": [
    {
     "name": "stdout",
     "output_type": "stream",
     "text": [
      "found it\n"
     ]
    }
   ],
   "source": [
    "for element in elements :\n",
    "    if element.get_attribute('title') == 'BMW':\n",
    "        button = element\n",
    "        print('found it')\n",
    "        break"
   ]
  },
  {
   "cell_type": "code",
   "execution_count": 66,
   "metadata": {},
   "outputs": [
    {
     "data": {
      "text/plain": [
       "'https://www.partslink24.com/partslink24/launchCatalog.do?service=bmw_parts'"
      ]
     },
     "execution_count": 66,
     "metadata": {},
     "output_type": "execute_result"
    }
   ],
   "source": [
    "button.get_attribute('href')"
   ]
  },
  {
   "cell_type": "code",
   "execution_count": 67,
   "metadata": {},
   "outputs": [
    {
     "ename": "ElementNotInteractableException",
     "evalue": "Message: element not interactable\n  (Session info: headless chrome=87.0.4280.67)\nStacktrace:\n0   chromedriver                        0x0000000104534d79 chromedriver + 2510201\n1   chromedriver                        0x0000000104ba1743 chromedriver + 9246531\n2   chromedriver                        0x000000010436f4aa chromedriver + 652458\n3   chromedriver                        0x00000001042f6be6 chromedriver + 158694\n4   chromedriver                        0x00000001042ed52c chromedriver + 120108\n5   chromedriver                        0x0000000104311c02 chromedriver + 269314\n6   chromedriver                        0x00000001042ed2a5 chromedriver + 119461\n7   chromedriver                        0x0000000104311e7e chromedriver + 269950\n8   chromedriver                        0x0000000104320a96 chromedriver + 330390\n9   chromedriver                        0x0000000104311e23 chromedriver + 269859\n10  chromedriver                        0x00000001042eb00a chromedriver + 110602\n11  chromedriver                        0x00000001042ebfc7 chromedriver + 114631\n12  chromedriver                        0x0000000104506429 chromedriver + 2319401\n13  chromedriver                        0x000000010451253f chromedriver + 2368831\n14  chromedriver                        0x0000000104512150 chromedriver + 2367824\n15  chromedriver                        0x00000001044ed23b chromedriver + 2216507\n16  chromedriver                        0x0000000104512a91 chromedriver + 2370193\n17  chromedriver                        0x00000001044fb4f9 chromedriver + 2274553\n18  chromedriver                        0x0000000104528f89 chromedriver + 2461577\n19  chromedriver                        0x000000010453a3b3 chromedriver + 2532275\n20  libsystem_pthread.dylib             0x00007fff20365950 _pthread_start + 224\n21  libsystem_pthread.dylib             0x00007fff2036147b thread_start + 15\n",
     "output_type": "error",
     "traceback": [
      "\u001b[0;31m---------------------------------------------------------------------------\u001b[0m",
      "\u001b[0;31mElementNotInteractableException\u001b[0m           Traceback (most recent call last)",
      "\u001b[0;32m<ipython-input-67-27831f0cd0b3>\u001b[0m in \u001b[0;36m<module>\u001b[0;34m\u001b[0m\n\u001b[0;32m----> 1\u001b[0;31m \u001b[0mbutton\u001b[0m\u001b[0;34m.\u001b[0m\u001b[0mclick\u001b[0m\u001b[0;34m(\u001b[0m\u001b[0;34m)\u001b[0m\u001b[0;34m\u001b[0m\u001b[0;34m\u001b[0m\u001b[0m\n\u001b[0m",
      "\u001b[0;32m~/opt/anaconda3/lib/python3.8/site-packages/selenium/webdriver/remote/webelement.py\u001b[0m in \u001b[0;36mclick\u001b[0;34m(self)\u001b[0m\n\u001b[1;32m     92\u001b[0m     \u001b[0;32mdef\u001b[0m \u001b[0mclick\u001b[0m\u001b[0;34m(\u001b[0m\u001b[0mself\u001b[0m\u001b[0;34m)\u001b[0m \u001b[0;34m->\u001b[0m \u001b[0;32mNone\u001b[0m\u001b[0;34m:\u001b[0m\u001b[0;34m\u001b[0m\u001b[0;34m\u001b[0m\u001b[0m\n\u001b[1;32m     93\u001b[0m         \u001b[0;34m\"\"\"Clicks the element.\"\"\"\u001b[0m\u001b[0;34m\u001b[0m\u001b[0;34m\u001b[0m\u001b[0m\n\u001b[0;32m---> 94\u001b[0;31m         \u001b[0mself\u001b[0m\u001b[0;34m.\u001b[0m\u001b[0m_execute\u001b[0m\u001b[0;34m(\u001b[0m\u001b[0mCommand\u001b[0m\u001b[0;34m.\u001b[0m\u001b[0mCLICK_ELEMENT\u001b[0m\u001b[0;34m)\u001b[0m\u001b[0;34m\u001b[0m\u001b[0;34m\u001b[0m\u001b[0m\n\u001b[0m\u001b[1;32m     95\u001b[0m \u001b[0;34m\u001b[0m\u001b[0m\n\u001b[1;32m     96\u001b[0m     \u001b[0;32mdef\u001b[0m \u001b[0msubmit\u001b[0m\u001b[0;34m(\u001b[0m\u001b[0mself\u001b[0m\u001b[0;34m)\u001b[0m\u001b[0;34m:\u001b[0m\u001b[0;34m\u001b[0m\u001b[0;34m\u001b[0m\u001b[0m\n",
      "\u001b[0;32m~/opt/anaconda3/lib/python3.8/site-packages/selenium/webdriver/remote/webelement.py\u001b[0m in \u001b[0;36m_execute\u001b[0;34m(self, command, params)\u001b[0m\n\u001b[1;32m    393\u001b[0m             \u001b[0mparams\u001b[0m \u001b[0;34m=\u001b[0m \u001b[0;34m{\u001b[0m\u001b[0;34m}\u001b[0m\u001b[0;34m\u001b[0m\u001b[0;34m\u001b[0m\u001b[0m\n\u001b[1;32m    394\u001b[0m         \u001b[0mparams\u001b[0m\u001b[0;34m[\u001b[0m\u001b[0;34m\"id\"\u001b[0m\u001b[0;34m]\u001b[0m \u001b[0;34m=\u001b[0m \u001b[0mself\u001b[0m\u001b[0;34m.\u001b[0m\u001b[0m_id\u001b[0m\u001b[0;34m\u001b[0m\u001b[0;34m\u001b[0m\u001b[0m\n\u001b[0;32m--> 395\u001b[0;31m         \u001b[0;32mreturn\u001b[0m \u001b[0mself\u001b[0m\u001b[0;34m.\u001b[0m\u001b[0m_parent\u001b[0m\u001b[0;34m.\u001b[0m\u001b[0mexecute\u001b[0m\u001b[0;34m(\u001b[0m\u001b[0mcommand\u001b[0m\u001b[0;34m,\u001b[0m \u001b[0mparams\u001b[0m\u001b[0;34m)\u001b[0m\u001b[0;34m\u001b[0m\u001b[0;34m\u001b[0m\u001b[0m\n\u001b[0m\u001b[1;32m    396\u001b[0m \u001b[0;34m\u001b[0m\u001b[0m\n\u001b[1;32m    397\u001b[0m     \u001b[0;32mdef\u001b[0m \u001b[0mfind_element\u001b[0m\u001b[0;34m(\u001b[0m\u001b[0mself\u001b[0m\u001b[0;34m,\u001b[0m \u001b[0mby\u001b[0m\u001b[0;34m=\u001b[0m\u001b[0mBy\u001b[0m\u001b[0;34m.\u001b[0m\u001b[0mID\u001b[0m\u001b[0;34m,\u001b[0m \u001b[0mvalue\u001b[0m\u001b[0;34m=\u001b[0m\u001b[0;32mNone\u001b[0m\u001b[0;34m)\u001b[0m \u001b[0;34m->\u001b[0m \u001b[0mWebElement\u001b[0m\u001b[0;34m:\u001b[0m\u001b[0;34m\u001b[0m\u001b[0;34m\u001b[0m\u001b[0m\n",
      "\u001b[0;32m~/opt/anaconda3/lib/python3.8/site-packages/selenium/webdriver/remote/webdriver.py\u001b[0m in \u001b[0;36mexecute\u001b[0;34m(self, driver_command, params)\u001b[0m\n\u001b[1;32m    343\u001b[0m         \u001b[0mresponse\u001b[0m \u001b[0;34m=\u001b[0m \u001b[0mself\u001b[0m\u001b[0;34m.\u001b[0m\u001b[0mcommand_executor\u001b[0m\u001b[0;34m.\u001b[0m\u001b[0mexecute\u001b[0m\u001b[0;34m(\u001b[0m\u001b[0mdriver_command\u001b[0m\u001b[0;34m,\u001b[0m \u001b[0mparams\u001b[0m\u001b[0;34m)\u001b[0m\u001b[0;34m\u001b[0m\u001b[0;34m\u001b[0m\u001b[0m\n\u001b[1;32m    344\u001b[0m         \u001b[0;32mif\u001b[0m \u001b[0mresponse\u001b[0m\u001b[0;34m:\u001b[0m\u001b[0;34m\u001b[0m\u001b[0;34m\u001b[0m\u001b[0m\n\u001b[0;32m--> 345\u001b[0;31m             \u001b[0mself\u001b[0m\u001b[0;34m.\u001b[0m\u001b[0merror_handler\u001b[0m\u001b[0;34m.\u001b[0m\u001b[0mcheck_response\u001b[0m\u001b[0;34m(\u001b[0m\u001b[0mresponse\u001b[0m\u001b[0;34m)\u001b[0m\u001b[0;34m\u001b[0m\u001b[0;34m\u001b[0m\u001b[0m\n\u001b[0m\u001b[1;32m    346\u001b[0m             \u001b[0mresponse\u001b[0m\u001b[0;34m[\u001b[0m\u001b[0;34m\"value\"\u001b[0m\u001b[0;34m]\u001b[0m \u001b[0;34m=\u001b[0m \u001b[0mself\u001b[0m\u001b[0;34m.\u001b[0m\u001b[0m_unwrap_value\u001b[0m\u001b[0;34m(\u001b[0m\u001b[0mresponse\u001b[0m\u001b[0;34m.\u001b[0m\u001b[0mget\u001b[0m\u001b[0;34m(\u001b[0m\u001b[0;34m\"value\"\u001b[0m\u001b[0;34m,\u001b[0m \u001b[0;32mNone\u001b[0m\u001b[0;34m)\u001b[0m\u001b[0;34m)\u001b[0m\u001b[0;34m\u001b[0m\u001b[0;34m\u001b[0m\u001b[0m\n\u001b[1;32m    347\u001b[0m             \u001b[0;32mreturn\u001b[0m \u001b[0mresponse\u001b[0m\u001b[0;34m\u001b[0m\u001b[0;34m\u001b[0m\u001b[0m\n",
      "\u001b[0;32m~/opt/anaconda3/lib/python3.8/site-packages/selenium/webdriver/remote/errorhandler.py\u001b[0m in \u001b[0;36mcheck_response\u001b[0;34m(self, response)\u001b[0m\n\u001b[1;32m    227\u001b[0m                 \u001b[0malert_text\u001b[0m \u001b[0;34m=\u001b[0m \u001b[0mvalue\u001b[0m\u001b[0;34m[\u001b[0m\u001b[0;34m\"alert\"\u001b[0m\u001b[0;34m]\u001b[0m\u001b[0;34m.\u001b[0m\u001b[0mget\u001b[0m\u001b[0;34m(\u001b[0m\u001b[0;34m\"text\"\u001b[0m\u001b[0;34m)\u001b[0m\u001b[0;34m\u001b[0m\u001b[0;34m\u001b[0m\u001b[0m\n\u001b[1;32m    228\u001b[0m             \u001b[0;32mraise\u001b[0m \u001b[0mexception_class\u001b[0m\u001b[0;34m(\u001b[0m\u001b[0mmessage\u001b[0m\u001b[0;34m,\u001b[0m \u001b[0mscreen\u001b[0m\u001b[0;34m,\u001b[0m \u001b[0mstacktrace\u001b[0m\u001b[0;34m,\u001b[0m \u001b[0malert_text\u001b[0m\u001b[0;34m)\u001b[0m  \u001b[0;31m# type: ignore[call-arg]  # mypy is not smart enough here\u001b[0m\u001b[0;34m\u001b[0m\u001b[0;34m\u001b[0m\u001b[0m\n\u001b[0;32m--> 229\u001b[0;31m         \u001b[0;32mraise\u001b[0m \u001b[0mexception_class\u001b[0m\u001b[0;34m(\u001b[0m\u001b[0mmessage\u001b[0m\u001b[0;34m,\u001b[0m \u001b[0mscreen\u001b[0m\u001b[0;34m,\u001b[0m \u001b[0mstacktrace\u001b[0m\u001b[0;34m)\u001b[0m\u001b[0;34m\u001b[0m\u001b[0;34m\u001b[0m\u001b[0m\n\u001b[0m",
      "\u001b[0;31mElementNotInteractableException\u001b[0m: Message: element not interactable\n  (Session info: headless chrome=87.0.4280.67)\nStacktrace:\n0   chromedriver                        0x0000000104534d79 chromedriver + 2510201\n1   chromedriver                        0x0000000104ba1743 chromedriver + 9246531\n2   chromedriver                        0x000000010436f4aa chromedriver + 652458\n3   chromedriver                        0x00000001042f6be6 chromedriver + 158694\n4   chromedriver                        0x00000001042ed52c chromedriver + 120108\n5   chromedriver                        0x0000000104311c02 chromedriver + 269314\n6   chromedriver                        0x00000001042ed2a5 chromedriver + 119461\n7   chromedriver                        0x0000000104311e7e chromedriver + 269950\n8   chromedriver                        0x0000000104320a96 chromedriver + 330390\n9   chromedriver                        0x0000000104311e23 chromedriver + 269859\n10  chromedriver                        0x00000001042eb00a chromedriver + 110602\n11  chromedriver                        0x00000001042ebfc7 chromedriver + 114631\n12  chromedriver                        0x0000000104506429 chromedriver + 2319401\n13  chromedriver                        0x000000010451253f chromedriver + 2368831\n14  chromedriver                        0x0000000104512150 chromedriver + 2367824\n15  chromedriver                        0x00000001044ed23b chromedriver + 2216507\n16  chromedriver                        0x0000000104512a91 chromedriver + 2370193\n17  chromedriver                        0x00000001044fb4f9 chromedriver + 2274553\n18  chromedriver                        0x0000000104528f89 chromedriver + 2461577\n19  chromedriver                        0x000000010453a3b3 chromedriver + 2532275\n20  libsystem_pthread.dylib             0x00007fff20365950 _pthread_start + 224\n21  libsystem_pthread.dylib             0x00007fff2036147b thread_start + 15\n"
     ]
    }
   ],
   "source": [
    "button.click()"
   ]
  },
  {
   "cell_type": "code",
   "execution_count": null,
   "metadata": {},
   "outputs": [],
   "source": []
  }
 ],
 "metadata": {
  "kernelspec": {
   "display_name": "Python 3",
   "language": "python",
   "name": "python3"
  },
  "language_info": {
   "codemirror_mode": {
    "name": "ipython",
    "version": 3
   },
   "file_extension": ".py",
   "mimetype": "text/x-python",
   "name": "python",
   "nbconvert_exporter": "python",
   "pygments_lexer": "ipython3",
   "version": "3.8.5"
  }
 },
 "nbformat": 4,
 "nbformat_minor": 4
}
